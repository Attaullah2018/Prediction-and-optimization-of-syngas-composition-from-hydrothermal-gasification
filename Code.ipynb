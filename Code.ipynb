{
 "cells": [
  {
   "cell_type": "code",
   "execution_count": 22,
   "metadata": {},
   "outputs": [],
   "source": [
    "import joblib\n",
    "from sklearn.metrics import mean_squared_error, r2_score\n",
    "from sklearn.ensemble import RandomForestRegressor,GradientBoostingRegressor\n",
    "from sklearn.model_selection import train_test_split\n",
    "import pandas as pd\n",
    "from sklearn.model_selection import cross_val_score\n",
    "import numpy as np\n",
    "from sklearn.preprocessing import StandardScaler\n",
    "from sklearn.svm import SVR\n",
    "from sklearn.multioutput import MultiOutputRegressor\n",
    "import matplotlib.pyplot as plt\n",
    "from sklearn.inspection import plot_partial_dependence"
   ]
  },
  {
   "cell_type": "code",
   "execution_count": 14,
   "metadata": {},
   "outputs": [
    {
     "name": "stdout",
     "output_type": "stream",
     "text": [
      "     C (%)  H (%)  N (%)  O (%)  Ash (%)  SD (%)  T (oC)  P (MPa)  Time (min)  \\\n",
      "0    39.88   6.20   6.04  26.08    21.80    18.0   200.0      2.0          20   \n",
      "1    39.88   6.20   6.04  26.08    21.80    18.0   220.0      2.6          20   \n",
      "2    39.88   6.20   6.04  26.08    21.80    18.0   240.0      3.8          20   \n",
      "3    39.88   6.20   6.04  26.08    21.80    18.0   260.0      5.0          20   \n",
      "4    39.88   6.20   6.04  26.08    21.80    18.0   280.0      7.0          20   \n",
      "..     ...    ...    ...    ...      ...     ...     ...      ...         ...   \n",
      "290  41.53   5.76   1.55  49.55     1.61     5.0   850.0     32.0          10   \n",
      "291  41.53   5.76   1.55  49.55     1.61    10.0   850.0     32.0          10   \n",
      "292  41.53   5.76   1.55  49.55     1.61    15.0   850.0     32.0          10   \n",
      "293  41.53   5.76   1.55  49.55     1.61    20.0   850.0     32.0          10   \n",
      "294  41.53   5.76   1.55  49.55     1.61    15.0   850.0     32.0          10   \n",
      "\n",
      "       CO2    CH4    CO     H2  \n",
      "0     2.21   0.00  0.03   0.00  \n",
      "1     2.57   0.00  0.05   0.00  \n",
      "2     2.55   0.00  0.04   0.00  \n",
      "3     2.60   0.00  0.10   0.00  \n",
      "4     3.12   0.00  0.24   0.00  \n",
      "..     ...    ...   ...    ...  \n",
      "290  21.31  12.45  0.00  21.68  \n",
      "291  15.47   9.11  1.15  15.91  \n",
      "292  17.19   9.46  0.69  16.16  \n",
      "293  12.21   7.84  1.96  12.57  \n",
      "294  17.35   9.55  0.82  16.25  \n",
      "\n",
      "[295 rows x 13 columns]\n"
     ]
    }
   ],
   "source": [
    "mydata = pd.read_csv(r'no catalyst.csv')\n",
    "print(mydata)\n",
    "\n",
    "X = mydata.values[:,:9]\n",
    "Y = mydata.values[:,9:13]\n",
    "\n",
    "mm_X = StandardScaler()\n",
    "mm_Y = StandardScaler()\n",
    "X = mm_X.fit_transform(X)\n",
    "Y = mm_Y.fit_transform(Y)\n",
    "\n",
    "X_train, X_test, y_train, y_test = train_test_split(X, Y, test_size=0.1, random_state=42)"
   ]
  },
  {
   "cell_type": "markdown",
   "metadata": {},
   "source": [
    "# Hyper-parameter tuning for GBR"
   ]
  },
  {
   "cell_type": "code",
   "execution_count": 9,
   "metadata": {},
   "outputs": [
    {
     "name": "stdout",
     "output_type": "stream",
     "text": [
      "2 0.01 0.48869804687940877 0.2513279472111821\n",
      "2 0.05 0.4465832148848349 0.24216032841994894\n",
      "2 0.1 0.4008796085309065 0.237603442808217\n",
      "2 1 0.22008046088648778 0.11391202129847339\n",
      "7 0.01 0.46227817260441517 0.2459269273048723\n",
      "7 0.05 0.35258298790239573 0.2247401575720821\n",
      "7 0.1 0.27051396621599233 0.20353126057644538\n",
      "7 1 0.18093182985288317 0.09245083686467484\n",
      "12 0.01 0.43844825650524033 0.2419339502126501\n",
      "12 0.05 0.29249712308813663 0.20709903408584568\n",
      "12 0.1 0.21181777242382266 0.18160650159757627\n",
      "12 1 0.16730618356072713 0.09007453072442147\n",
      "17 0.01 0.41649537199447995 0.23851956301851174\n",
      "17 0.05 0.25274392791609773 0.1954318196069392\n",
      "17 0.1 0.17866278262306598 0.1666868597230823\n",
      "17 1 0.16337824262828832 0.09638057802627929\n",
      "22 0.01 0.39643233835054287 0.2347913747482013\n",
      "22 0.05 0.22497069033502903 0.18497961530647833\n",
      "22 0.1 0.15601034744587475 0.15200049207119604\n",
      "22 1 0.15845020617970382 0.09875802050344934\n",
      "27 0.01 0.37878366518377743 0.22957041505338302\n",
      "27 0.05 0.20340350074704933 0.18117251969016332\n",
      "27 0.1 0.14386905976619183 0.1461506781924149\n",
      "27 1 0.15868079825996576 0.10048364629027154\n",
      "32 0.01 0.36264668974723974 0.22461154232759264\n",
      "32 0.05 0.18751828923843408 0.17709085778718198\n",
      "32 0.1 0.1325598723160259 0.13075616666675355\n",
      "32 1 0.15536609147562858 0.09268780230828828\n",
      "37 0.01 0.34776002690757296 0.22070771486118232\n",
      "37 0.05 0.17567739346373684 0.17285519174461403\n",
      "37 0.1 0.12452261921782233 0.1231041788594679\n",
      "37 1 0.1551168056672586 0.09516387424475208\n",
      "42 0.01 0.33401976645590264 0.2168004914219999\n",
      "42 0.05 0.16402206034314962 0.1640620552899022\n",
      "42 0.1 0.12116892543784144 0.1212603605025952\n",
      "42 1 0.1556234002348838 0.09526507546784989\n",
      "47 0.01 0.32153954304268667 0.21328103740719737\n",
      "47 0.05 0.15447249920171885 0.15173339311423112\n",
      "47 0.1 0.11948036494448358 0.12071045980929612\n",
      "47 1 0.15628121631149355 0.09783696740702134\n"
     ]
    }
   ],
   "source": [
    "x =np.arange(2,50,5)\n",
    "y=[0.01,0.05,0.1,1]\n",
    "                                     \n",
    "for i in x:\n",
    "   for j in y:\n",
    "       model = MultiOutputRegressor(GradientBoostingRegressor(n_estimators=i, learning_rate=j,\n",
    "                                    subsample=1,max_depth=3,random_state=42))#\n",
    "       scores = cross_val_score(model, X_train, y_train, cv=5, scoring='neg_mean_squared_error')#scoring='neg_mean_squared_error'\n",
    "       Scores1=-np.mean(scores)\n",
    "       Scores2=Scores1**1/2\n",
    "       std=np.std(scores)      \n",
    "       print(i,j,Scores2,std)\n",
    "       "
   ]
  },
  {
   "cell_type": "code",
   "execution_count": 8,
   "metadata": {},
   "outputs": [
    {
     "name": "stdout",
     "output_type": "stream",
     "text": [
      "0.5 3 0.13298012614598084 0.11261429440079695\n",
      "0.5 5 0.10502407481343715 0.10092762746628135\n",
      "0.5 7 0.09768740936203588 0.0925798564560647\n",
      "0.5 9 0.10116295186786033 0.09083467638207414\n",
      "0.5 11 0.09556084617067911 0.09874333944103778\n",
      "0.5 13 0.09616509715962318 0.09736401747493975\n",
      "0.5 15 0.09867008759836285 0.10255786716795257\n",
      "0.5 17 0.10128498452192754 0.09968877187329238\n",
      "0.5 19 0.10028131686099358 0.09966148447598562\n",
      "0.6 3 0.12468030945181455 0.11576095759263695\n",
      "0.6 5 0.10732364139255494 0.10061643076647317\n",
      "0.6 7 0.09993000800365923 0.1012915063228243\n",
      "0.6 9 0.1011071890083874 0.09734151304778074\n",
      "0.6 11 0.09776268123378495 0.10261527665347395\n",
      "0.6 13 0.10180241114304492 0.10205621280743553\n",
      "0.6 15 0.09819536860368139 0.09817801913464103\n",
      "0.6 17 0.10052458752601863 0.09494878986347967\n",
      "0.6 19 0.09959818161573844 0.0981843703778685\n",
      "0.7 3 0.12695722834706263 0.12119626530059531\n",
      "0.7 5 0.10929204763190987 0.10725008072321889\n",
      "0.7 7 0.09877636817893244 0.10059467210602982\n",
      "0.7 9 0.1012821606154815 0.10491985673658878\n",
      "0.7 11 0.09845238087467023 0.10223792707308064\n",
      "0.7 13 0.10135207940312727 0.10927831983319822\n",
      "0.7 15 0.10259094788151768 0.10002073173727023\n",
      "0.7 17 0.10469018414140926 0.09680373599097265\n",
      "0.7 19 0.10314360525643587 0.0965277986016087\n",
      "0.8 3 0.13301289958945164 0.13859761958817596\n",
      "0.8 5 0.11212437219851223 0.10153035639539501\n",
      "0.8 7 0.10648254199015313 0.10045178584020406\n",
      "0.8 9 0.10440119872111009 0.09579833345912414\n",
      "0.8 11 0.1045563122968094 0.09206616223769826\n",
      "0.8 13 0.10766550546873925 0.09558612596937717\n",
      "0.8 15 0.10151926976459916 0.09274559387265352\n",
      "0.8 17 0.10611629728611102 0.09745018994639458\n",
      "0.8 19 0.10706394405634338 0.09763803939869413\n"
     ]
    }
   ],
   "source": [
    "\"\"\"Hyper-parameter tuning for GBR \"\"\"\n",
    "\n",
    "x=[0.5,0.6,0.7,0.8]\n",
    "y =np.arange(3,20,2)\n",
    "                                      \n",
    "for i in x:\n",
    "   for j in y:\n",
    "       model = MultiOutputRegressor(GradientBoostingRegressor(n_estimators=32,learning_rate=0.1,\n",
    "                                    subsample=i,max_depth=j,random_state=42))#\n",
    "       scores = cross_val_score(model,X_train,y_train,cv=5,scoring='neg_mean_squared_error')#scoring='neg_mean_squared_error'\n",
    "       Scores1=-np.mean(scores)\n",
    "       Scores2=Scores1**1/2\n",
    "       std=np.std(scores)     \n",
    "       print(i,j,Scores2,std)\n"
   ]
  },
  {
   "cell_type": "markdown",
   "metadata": {},
   "source": [
    "# Model training and testing"
   ]
  },
  {
   "cell_type": "code",
   "execution_count": 12,
   "metadata": {},
   "outputs": [],
   "source": [
    "X_train, X_test, y_train, y_test = train_test_split(X, Y, test_size=0.1, random_state=42)\n",
    "model = MultiOutputRegressor(GradientBoostingRegressor(n_estimators=32, learning_rate=0.1,\n",
    "                                subsample=0.5, max_depth=7,random_state=42))\n",
    "model.fit(X_train,y_train)\n",
    "\n",
    "y_train_pre=model.predict(X_train)\n",
    "y_test_pre=model.predict(X_test)\n"
   ]
  },
  {
   "cell_type": "code",
   "execution_count": 38,
   "metadata": {},
   "outputs": [
    {
     "name": "stdout",
     "output_type": "stream",
     "text": [
      "train R2 [0.98 0.99 0.96 0.99] average train R2: 0.98 test R2: [0.95 0.92 0.95 0.93] average test R2: 0.94 train RMSE: [0.7  0.29 0.24 0.74] average train RMSE: 0.49 test RMSE: [1.31 0.51 0.29 1.85] average test RMSE: 0.99\n"
     ]
    }
   ],
   "source": [
    "r=r2_score(y_train, y_train_pre,multioutput='raw_values')\n",
    "r2=r2_score(y_test, y_test_pre,multioutput='raw_values')\n",
    "\n",
    "tMSE=mean_squared_error(y_train, y_train_pre,multioutput='raw_values')\n",
    "tMSE=tMSE**0.5\n",
    "MSE=mean_squared_error(y_test, y_test_pre,multioutput='raw_values')\n",
    "MSE=MSE**0.5\n",
    "print('train R2',np.around(r,2),'average train R2:',np.around(np.mean(r,axis=0),2),\n",
    "      'test R2:',np.around(r2,2),'average test R2:',np.around(np.mean(r2,axis=0),2),\n",
    "      'train RMSE:',np.around(tMSE,2), 'average train RMSE:',np.around(np.mean(tMSE,axis=0),2),\n",
    "      'test RMSE:',np.around(MSE,2),'average test RMSE:',np.around(np.mean(MSE,axis=0),2))"
   ]
  },
  {
   "cell_type": "markdown",
   "metadata": {},
   "source": [
    "# Model-based feature analysis"
   ]
  },
  {
   "cell_type": "code",
   "execution_count": 28,
   "metadata": {},
   "outputs": [],
   "source": [
    "mydata = pd.read_csv(r'no catalyst.csv')\n",
    "#print(mydata)\n",
    "features=['C (%)','H (%)','N (%)','O (%)','Ash (%)',\n",
    "         'SD (%)','T (oC)','P (MPa)','Time (min)']\n",
    "targets=['H2']#,'CH4','CH4','CO',\n",
    "\n",
    "X=mydata.loc[:,features].values\n",
    "Y=mydata.loc[:,targets].values\n",
    "\n",
    "X_train, X_test, y_train, y_test = train_test_split(X, Y, test_size=0.1, random_state=42)"
   ]
  },
  {
   "cell_type": "code",
   "execution_count": 29,
   "metadata": {},
   "outputs": [
    {
     "name": "stdout",
     "output_type": "stream",
     "text": [
      "Feature ranking:\n",
      "1. feature 6 (0.543973)\n",
      "2. feature 5 (0.110167)\n",
      "3. feature 7 (0.084284)\n",
      "4. feature 0 (0.074182)\n",
      "5. feature 2 (0.060711)\n",
      "6. feature 8 (0.056444)\n",
      "7. feature 4 (0.034645)\n",
      "8. feature 3 (0.027428)\n",
      "9. feature 1 (0.008165)\n"
     ]
    },
    {
     "name": "stderr",
     "output_type": "stream",
     "text": [
      "C:\\Users\\Lenovo\\AppData\\Local\\Continuum\\anaconda3\\lib\\site-packages\\sklearn\\utils\\validation.py:63: DataConversionWarning: A column-vector y was passed when a 1d array was expected. Please change the shape of y to (n_samples, ), for example using ravel().\n",
      "  return f(*args, **kwargs)\n"
     ]
    },
    {
     "data": {
      "image/png": "[encoded data removed]",
      "text/plain": [
       "<Figure size 720x576 with 1 Axes>"
      ]
     },
     "metadata": {
      "needs_background": "light"
     },
     "output_type": "display_data"
    },
    {
     "data": {
      "image/png": "[encoded data removed]",
      "text/plain": [
       "<Figure size 576x576 with 10 Axes>"
      ]
     },
     "metadata": {
      "needs_background": "light"
     },
     "output_type": "display_data"
    }
   ],
   "source": [
    "\n",
    "\"\"\"feature importance from single task one by one\"\"\"\n",
    "\n",
    "model = GradientBoostingRegressor(n_estimators=32, learning_rate=0.1,\n",
    "                               subsample=0.5, max_depth=7,random_state=42)\n",
    "model.fit(X_train,y_train)\n",
    "\n",
    "importances = model.feature_importances_\n",
    "indices = np.argsort(importances)[::-1]\n",
    "#Print the feature ranking\n",
    "print(\"Feature ranking:\")\n",
    "for f in range(X.shape[1]):\n",
    "   print(\"%d. feature %d (%f)\" % (f + 1, indices[f], importances[indices[f]]))\n",
    "# Plot the feature importances\n",
    "fig, ax = plt.subplots(figsize=(10, 8))\n",
    "y_ticks = np.arange(len(mydata.columns.values[0:9]))\n",
    "ax.barh(y_ticks,importances[indices],height=0.6)\n",
    "ax.set_yticklabels(mydata.columns[indices])\n",
    "ax.set_yticks(y_ticks)\n",
    "ax.invert_yaxis()\n",
    "\n",
    "label_x = ax.get_xticklabels()\n",
    "plt.tick_params(axis='x',labelsize=13) \n",
    "plt.tick_params(axis='y',labelsize=13)\n",
    "plt.xlabel('Value of importance', fontsize=15)        \n",
    "plt.ylabel('Features', fontsize=15) \n",
    "fig.tight_layout()\n",
    "plt.show()\n",
    "\n",
    "fig, ax = plt.subplots(figsize=(8, 8))\n",
    "plot_partial_dependence(model,mydata.values[:,:9], features=\n",
    "                       ['C (%)','H (%)','N (%)','O (%)','Ash (%)','SD (%)','T (oC)','P (MPa)','Time (min)'],\n",
    "                       feature_names=mydata.columns[:9], n_jobs=3, grid_resolution=50,ax=ax)#,'T (oC)'\n",
    "fig = plt.gcf()\n",
    "fig.subplots_adjust(wspace=0.2, hspace=0.3)\n"
   ]
  },
  {
   "cell_type": "markdown",
   "metadata": {},
   "source": [
    "# Model-based optimization"
   ]
  },
  {
   "cell_type": "code",
   "execution_count": 31,
   "metadata": {},
   "outputs": [
    {
     "name": "stdout",
     "output_type": "stream",
     "text": [
      "Stopping search: maximum iterations reached --> 200\n",
      "Stopping search: maximum iterations reached --> 200\n",
      "Stopping search: maximum iterations reached --> 200\n",
      "Stopping search: maximum iterations reached --> 200\n",
      "Stopping search: maximum iterations reached --> 200\n"
     ]
    }
   ],
   "source": [
    "import numpy as np\n",
    "import logging\n",
    "from sklearn.ensemble import GradientBoostingRegressor\n",
    "from pyswarm import pso\n",
    "import joblib\n",
    "\n",
    "lower_bounds=np.array([22.08,2.08,0,0.15,0,0.76,200,19.4,2])\n",
    "upper_bounds=np.array([65.45,7.28,7.9, 54.79,57.87,30,850, 32, 120])\n",
    "\n",
    "def objective(X):\n",
    "    \"\"\"\n",
    "    We want to minimize the CO2 and maximize the H2 in syngas\n",
    "    \"\"\"\n",
    "#    print('orignin',X[4])   \n",
    "    model =joblib.load(\"nonWG_GBR_for_optimization\")\n",
    "    X[4]=100-X[0]-X[1]-X[2]-X[3]\n",
    "#    print('post',X[4])\n",
    "    x=np.array([X[0],X[1],X[2],X[3],X[4],X[5],X[6],X[7],X[8]]).reshape(1,9)\n",
    "    y_predict = model.predict(x)\n",
    "    \n",
    "    return -y_predict[:,3] + y_predict[:,0]\n",
    "\n",
    "logging.info(objective.__doc__)\n",
    "\n",
    "X_opts = []\n",
    "n_runs =5\n",
    "for n in range(n_runs):\n",
    "    logging.info('Run %d' % (n))\n",
    "    X_opt, _ = pso(\n",
    "        objective, lower_bounds, upper_bounds, #f_ieqcons=constraints,\n",
    "        swarmsize=100, maxiter=200)\n",
    "    X_opts.append(X_opt)\n",
    "X_opts = np.asarray(X_opts)"
   ]
  },
  {
   "cell_type": "code",
   "execution_count": 35,
   "metadata": {
    "scrolled": true
   },
   "outputs": [
    {
     "name": "stdout",
     "output_type": "stream",
     "text": [
      "[[3.9170e+01 5.9600e+00 0.0000e+00 2.3340e+01 3.1530e+01 5.7600e+00\n",
      "  8.4956e+02 1.9400e+01 8.6360e+01]\n",
      " [3.5490e+01 2.1000e+00 0.0000e+00 2.3180e+01 3.9230e+01 9.6200e+00\n",
      "  7.8429e+02 2.0050e+01 1.0485e+02]\n",
      " [2.8960e+01 5.8800e+00 0.0000e+00 2.2740e+01 4.2430e+01 5.7200e+00\n",
      "  7.9876e+02 2.1400e+01 8.0600e+01]\n",
      " [2.3840e+01 5.6300e+00 5.0000e-02 2.8090e+01 4.2380e+01 9.1000e-01\n",
      "  8.5000e+02 2.0020e+01 8.3000e+01]\n",
      " [2.6350e+01 5.6400e+00 6.6300e+00 2.3760e+01 3.7620e+01 9.1000e-01\n",
      "  6.2820e+02 2.5790e+01 4.4340e+01]]\n",
      "[[18.92189931  7.56639811  0.77899031 37.34461219]\n",
      " [17.76112392  8.38647577  1.41824008 35.08871308]\n",
      " [18.91231422 10.22824958  0.95290705 37.34461219]\n",
      " [18.07344053 10.6824361   1.24571768 36.79033725]\n",
      " [ 6.93233445 10.07278771  0.48675031 22.63342754]]\n"
     ]
    }
   ],
   "source": [
    "print(X_opts)\n",
    "y_hat_opts = model.predict(X_opts).reshape(-1, 4)\n",
    "print(y_hat_opts)"
   ]
  },
  {
   "cell_type": "code",
   "execution_count": null,
   "metadata": {},
   "outputs": [],
   "source": []
  }
 ],
 "metadata": {
  "kernelspec": {
   "display_name": "Python 3",
   "language": "python",
   "name": "python3"
  },
  "language_info": {
   "codemirror_mode": {
    "name": "ipython",
    "version": 3
   },
   "file_extension": ".py",
   "mimetype": "text/x-python",
   "name": "python",
   "nbconvert_exporter": "python",
   "pygments_lexer": "ipython3",
   "version": "3.7.4"
  }
 },
 "nbformat": 4,
 "nbformat_minor": 2
}
